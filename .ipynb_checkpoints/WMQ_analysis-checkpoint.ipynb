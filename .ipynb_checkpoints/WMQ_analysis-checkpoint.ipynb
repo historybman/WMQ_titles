{
 "cells": [
  {
   "cell_type": "markdown",
   "metadata": {},
   "source": [
    "# An analysis of thirty years of articles in the _William and Mary Quarterly_\n",
    "\n",
    "The _William and Mary Quarterly_ is the premier scholarly journal in early American studies and history.  It is published by the [Omohundro Institute of Early American History and Culture](https://oieahc.wm.edu).\n",
    "\n",
    "The purpose of this experiment is to use a dataset provided by the [JSTOR API](http://dfr.jstor.org), which is an xml file of metadata for around 1000 WMQ articles starting in 1976 and continuing through 2010. The logic behind the limits of this dataset is that the API allows researchers to request data for up to 1000 articles at a time, and this search gave me a dataset of n =973.  \n",
    "\n",
    "My goal in this basic project is to perform some basic text analysis and other kinds of analysis on this dataset, using some rudimentary Python code.\n",
    "\n",
    "## First steps\n",
    "The JSTOR API sent me a series of XML files which I have unzipped and stored in a file (called ```/data```) in the same directory/repository as this jupyter notebook.  My first experiment is to try to use xmltree to parse some of this data."
   ]
  },
  {
   "cell_type": "code",
   "execution_count": 4,
   "metadata": {
    "collapsed": true
   },
   "outputs": [],
   "source": [
    "import xml.etree.ElementTree as ET"
   ]
  },
  {
   "cell_type": "code",
   "execution_count": 5,
   "metadata": {
    "collapsed": false
   },
   "outputs": [],
   "source": [
    "tree = ET.parse('data/citations.xml')\n",
    "root = tree.getroot()"
   ]
  },
  {
   "cell_type": "code",
   "execution_count": 6,
   "metadata": {
    "collapsed": false
   },
   "outputs": [
    {
     "data": {
      "text/plain": [
       "'citations'"
      ]
     },
     "execution_count": 6,
     "metadata": {},
     "output_type": "execute_result"
    }
   ],
   "source": [
    "root.tag"
   ]
  },
  {
   "cell_type": "markdown",
   "metadata": {},
   "source": [
    "## Success\n",
    "The above code imports the python library for xml parsing, known as etree.  Then I feed the ```citations.xml``` file into the parse method and store the resulting object in the ```tree``` variable.  Then I find the root tag within the xml tree, which shows me that I've successfully imported the file.  "
   ]
  },
  {
   "cell_type": "markdown",
   "metadata": {
    "collapsed": true
   },
   "source": [
    "# Next step\n",
    "Now that we have the tree of xml parsed into the ET object, we can experiment with the various functions of the ElementTree module.  For instance, writing a loop to parse out the titles of the articles.  "
   ]
  },
  {
   "cell_type": "code",
   "execution_count": 37,
   "metadata": {
    "collapsed": false
   },
   "outputs": [
    {
     "name": "stdout",
     "output_type": "stream",
     "text": [
      "<Element 'doi' at 0x1039d9a98>\n",
      "<Element 'title' at 0x1039d9b88>\n",
      "<Element 'author' at 0x1039d9bd8>\n",
      "<Element 'journaltitle' at 0x1039d9c28>\n",
      "<Element 'volume' at 0x1039d9cc8>\n",
      "<Element 'issue' at 0x1039d9d18>\n",
      "<Element 'pubdate' at 0x1039d9d68>\n",
      "<Element 'pagerange' at 0x1039d9db8>\n",
      "<Element 'publisher' at 0x1039d9e08>\n",
      "<Element 'type' at 0x1039d9e58>\n",
      "<Element 'reviewed-work' at 0x1039d9ea8>\n",
      "<Element 'abstract' at 0x1039d9ef8>\n"
     ]
    }
   ],
   "source": [
    "for child in root[0]:\n",
    "    print(child)\n",
    "# for article in tree.findall('citations/article'):\n",
    "#     print(article.get('title'))"
   ]
  },
  {
   "cell_type": "markdown",
   "metadata": {},
   "source": [
    "Problem: I cannot figure out how to parse this xml.  It's a similar process to beautiful soup, where you have to go down the tree, but I seem to wind up at the right child, but nothing prints out.  I have looked at the following pages:\n",
    "\n",
    "- [stack overflow](http://stackoverflow.com/questions/1912434/how-do-i-parse-xml-in-python)\n",
    "- p. 156 in Severance.\n",
    "- [official documentation for python](https://docs.python.org/2/library/xml.etree.elementtree.html)\n",
    "\n",
    "I am a bit stuck so I'll take a break. My sense is that I'm almost there.  Etree should not be very hard."
   ]
  },
  {
   "cell_type": "markdown",
   "metadata": {},
   "source": [
    "## Possible Breakthrough\n",
    "I think I have found a good article about this dilemma in the book [_Dive Into Python_](https://docs.python.org/2/library/xml.etree.elementtree.html).  Will return and work on this next.  "
   ]
  },
  {
   "cell_type": "code",
   "execution_count": null,
   "metadata": {
    "collapsed": true
   },
   "outputs": [],
   "source": []
  }
 ],
 "metadata": {
  "anaconda-cloud": {},
  "kernelspec": {
   "display_name": "Python [py35]",
   "language": "python",
   "name": "Python [py35]"
  },
  "language_info": {
   "codemirror_mode": {
    "name": "ipython",
    "version": 3
   },
   "file_extension": ".py",
   "mimetype": "text/x-python",
   "name": "python",
   "nbconvert_exporter": "python",
   "pygments_lexer": "ipython3",
   "version": "3.5.2"
  }
 },
 "nbformat": 4,
 "nbformat_minor": 0
}
