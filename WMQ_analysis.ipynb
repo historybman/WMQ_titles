{
 "cells": [
  {
   "cell_type": "markdown",
   "metadata": {},
   "source": [
    "# An analysis of thirty years of articles in the _William and Mary Quarterly_\n",
    "\n",
    "The _William and Mary Quarterly_ is the premier scholarly journal in early American studies and history.  It is published by the [Omohundro Institute of Early American History and Culture](https://oieahc.wm.edu).\n",
    "\n",
    "The purpose of this experiment is to use a dataset provided by the [JSTOR API](http://dfr.jstor.org), which is an xml file of metadata for around 1000 WMQ articles starting in 1976 and continuing through 2010. The logic behind the limits of this dataset is that the API allows researchers to request data for up to 1000 articles at a time, and this search gave me a dataset of n =973.  \n",
    "\n",
    "My goal in this basic project is to perform some basic text analysis and other kinds of analysis on this dataset, using some rudimentary Python code.\n",
    "\n",
    "## First steps\n",
    "The JSTOR API sent me a series of XML files which I have unzipped and stored in a file (called ```/data```) in the same directory/repository as this jupyter notebook.  My first experiment is to try to use xmltree to parse some of this data."
   ]
  },
  {
   "cell_type": "code",
   "execution_count": 1,
   "metadata": {
    "collapsed": true
   },
   "outputs": [],
   "source": [
    "import xml.etree.ElementTree as ET"
   ]
  },
  {
   "cell_type": "code",
   "execution_count": 4,
   "metadata": {
    "collapsed": true
   },
   "outputs": [],
   "source": [
    "tree = ET.parse('data/citations.xml')\n",
    "root = tree.getroot()"
   ]
  },
  {
   "cell_type": "code",
   "execution_count": 5,
   "metadata": {
    "collapsed": false
   },
   "outputs": [
    {
     "data": {
      "text/plain": [
       "'citations'"
      ]
     },
     "execution_count": 5,
     "metadata": {},
     "output_type": "execute_result"
    }
   ],
   "source": [
    "root.tag"
   ]
  },
  {
   "cell_type": "markdown",
   "metadata": {},
   "source": [
    "## Success\n",
    "The above code imports the python library for xml parsing, known as etree.  Then I feed the ```citations.xml``` file into the parse method and store the resulting object in the ```tree``` variable.  Then I find the root tag within the xml tree, which shows me that I've successfully imported the file.  "
   ]
  },
  {
   "cell_type": "code",
   "execution_count": null,
   "metadata": {
    "collapsed": true
   },
   "outputs": [],
   "source": []
  }
 ],
 "metadata": {
  "anaconda-cloud": {},
  "kernelspec": {
   "display_name": "Python [py35]",
   "language": "python",
   "name": "Python [py35]"
  },
  "language_info": {
   "codemirror_mode": {
    "name": "ipython",
    "version": 3
   },
   "file_extension": ".py",
   "mimetype": "text/x-python",
   "name": "python",
   "nbconvert_exporter": "python",
   "pygments_lexer": "ipython3",
   "version": "3.5.2"
  }
 },
 "nbformat": 4,
 "nbformat_minor": 0
}
